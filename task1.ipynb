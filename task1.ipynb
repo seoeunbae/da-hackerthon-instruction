{
  "cells": [
    {
      "cell_type": "markdown",
      "metadata": {
        "id": "HLJndS9m7Teg"
      },
      "source": [
        "## Initialize Environment\n",
        "### This cell imports necessary libraries, initializes the BigQuery client,and sets up global variables for the analysis."
      ]
    },
    {
      "cell_type": "markdown",
      "metadata": {
        "id": "EcuajEZbpggK"
      },
      "source": [
        "**IMPORTANT: In the cell below, you must enter your Google Cloud Project ID for the current lab. This value is crucial for accessing all resources within your lab environment.**"
      ]
    },
    {
      "cell_type": "code",
      "execution_count": null,
      "metadata": {
        "id": "Sg3u5Ls-pcoO"
      },
      "outputs": [],
      "source": [
        "# User: Please enter your Project ID in this cell.\n",
        "PROJECT_ID = 'your-gcp-project-id' # <-- ENTER YOUR ACTUAL PROJECT ID HERE!\n",
        "\n",
        "# Verify that PROJECT_ID is not empty. If it is, raise an error.\n",
        "if not PROJECT_ID:\n",
        "    raise ValueError(\"ERROR: PROJECT_ID is not set. Please enter your Project ID above.\")\n",
        "\n",
        "print(f\"Project ID set to: {PROJECT_ID}\")"
      ]
    },
    {
      "cell_type": "markdown",
      "metadata": {
        "id": "kTaWwVgrpjcU"
      },
      "source": [
        "Now, run this cell to initialize the environment. This will import all necessary libraries, establish the connection to BigQuery, and define the key variables (such as GCS bucket paths) that will be used throughout the lab."
      ]
    },
    {
      "cell_type": "code",
      "execution_count": null,
      "metadata": {
        "id": "AzPGVcphWbpm"
      },
      "outputs": [],
      "source": [
        "# This cell imports necessary libraries, initializes the BigQuery client,\n",
        "# and sets up global variables for the analysis.\n",
        "from google.cloud import bigquery\n",
        "import pandas as pd\n",
        "from IPython.display import HTML, display, Image, Video\n",
        "from google.cloud import storage\n",
        "import matplotlib.pyplot as plt\n",
        "import seaborn as sns\n",
        "\n",
        "# Ensure PROJECT_ID has been defined in the cell above.\n",
        "if 'PROJECT_ID' not in locals() or not PROJECT_ID:\n",
        "    raise ValueError(\"ERROR: PROJECT_ID is not set. Please run the 'Set Your Project ID' cell above first.\")\n",
        "\n",
        "client = bigquery.Client(project=PROJECT_ID, location=\"us-central1\") # Added project argument\n",
        "\n",
        "# IMPORTANT: Verify this PROJECT_ID matches your lab's project ID.\n",
        "DATASET_ID = 'cymbal'\n",
        "REGION = 'us-central1'\n",
        "CONNECTION_ID_FOR_EXTERNAL_TABLE = f'{REGION}.gemini_conn'\n",
        "GEMINI_MODEL_NAME = f'{PROJECT_ID}.{DATASET_ID}.gemini_flash_model'\n",
        "GCS_BUCKET_URI = f'gs://{PROJECT_ID}-bucket'\n",
        "CSV_GCS_URI = f'{GCS_BUCKET_URI}/review/customer_reviews.csv'\n",
        "IMAGES_GCS_URI_PATTERN = f'{GCS_BUCKET_URI}/review/images/*'\n",
        "VIDEOS_GCS_URI_PATTERN = f'{GCS_BUCKET_URI}/review/videos/*'\n",
        "\n",
        "# Create the dataset if it doesn't exist to avoid errors.\n",
        "client.create_dataset(DATASET_ID, exists_ok=True)\n",
        "print(f\"Dataset {DATASET_ID} ensured.\")\n",
        "print(f\"BigQuery Client Initialized. Project ID: {PROJECT_ID}\")\n",
        "\n",
        "def run_bq_query(sql: str, client: bigquery.Client):\n",
        "    \"\"\"A helper function to run BigQuery queries and return results.\"\"\"\n",
        "    try:\n",
        "        query_job = client.query(sql)\n",
        "        print(f\"Job {query_job.job_id} in state {query_job.state}\")\n",
        "        if query_job.statement_type == 'SELECT':\n",
        "            df = query_job.to_dataframe()\n",
        "            print(f\"Query complete. Fetched {len(df)} rows.\")\n",
        "            return df\n",
        "        else:\n",
        "            query_job.result()\n",
        "            print(f\"Query for statement type {query_job.statement_type} complete.\")\n",
        "            return None\n",
        "    except Exception as e:\n",
        "        print(f\"An error occurred: {e}\")\n",
        "        return None"
      ]
    },
    {
      "cell_type": "markdown",
      "metadata": {
        "id": "DmjfutVk9E52"
      },
      "source": [
        "## Create Text Reviews External Table\n",
        "### We create an **EXTERNAL TABLE** that points directly to the CSV file in GCS with an explicitly defined schema. This method completely bypasses any data loading and schema auto-detection issues."
      ]
    },
    {
      "cell_type": "code",
      "execution_count": null,
      "metadata": {
        "id": "u7FvnKP7WdQy"
      },
      "outputs": [],
      "source": [
        "\n",
        "table_id_reviews_external = f\"{PROJECT_ID}.{DATASET_ID}.customer_reviews_external\"\n",
        "sql_create_external_table = f\"\"\"\n",
        "CREATE OR REPLACE EXTERNAL TABLE `{table_id_reviews_external}` (\n",
        "    customer_review_id INT64,\n",
        "    customer_id INT64,\n",
        "    location_id INT64,\n",
        "    review_datetime DATETIME,\n",
        "    review_text STRING,\n",
        "    social_media_source STRING,\n",
        "    social_media_handle STRING,\n",
        "    product_id INT64,\n",
        "    rating INT64\n",
        ")\n",
        "OPTIONS (\n",
        "  format = 'CSV',\n",
        "  uris = ['{CSV_GCS_URI}'],\n",
        "  field_delimiter = ',',\n",
        "  skip_leading_rows = 1,\n",
        "  allow_quoted_newlines = TRUE\n",
        ");\n",
        "\"\"\"\n",
        "print(f\"Creating external table: {table_id_reviews_external}...\")\n",
        "run_bq_query(sql_create_external_table, client)\n"
      ]
    },
    {
      "cell_type": "markdown",
      "metadata": {
        "id": "EXYOs_-O9Wr_"
      },
      "source": [
        "## Verify the Text Review Table"
      ]
    },
    {
      "cell_type": "code",
      "execution_count": null,
      "metadata": {
        "id": "FGsu5JixElgg"
      },
      "outputs": [],
      "source": [
        "%%bigquery\n",
        "SELECT * FROM `cymbal.customer_reviews_external`\n",
        "LIMIT 5"
      ]
    },
    {
      "cell_type": "markdown",
      "metadata": {
        "id": "4hGII15a-m5B"
      },
      "source": [
        "## Create Object Tables for Images and Videos"
      ]
    },
    {
      "cell_type": "code",
      "execution_count": null,
      "metadata": {
        "id": "zWNJWAqXP8MG"
      },
      "outputs": [],
      "source": [
        "# Creates an object table for review images.\n",
        "table_id_review_images = f\"{PROJECT_ID}.{DATASET_ID}.review_images\"\n",
        "sql_create_image_table = f\"\"\"\n",
        "CREATE OR REPLACE EXTERNAL TABLE `{table_id_review_images}`\n",
        "WITH CONNECTION `{CONNECTION_ID_FOR_EXTERNAL_TABLE}`\n",
        "OPTIONS (object_metadata = 'SIMPLE', uris = ['{IMAGES_GCS_URI_PATTERN}']);\n",
        "\"\"\"\n",
        "print(f\"\\nCreating object table for review images: {table_id_review_images}\")\n",
        "run_bq_query(sql_create_image_table, client)\n",
        "\n",
        "# Creates an object table for review videos.\n",
        "table_id_review_videos = f\"{PROJECT_ID}.{DATASET_ID}.review_videos\"\n",
        "sql_create_video_table = f\"\"\"\n",
        "CREATE OR REPLACE EXTERNAL TABLE `{table_id_review_videos}`\n",
        "WITH CONNECTION `{CONNECTION_ID_FOR_EXTERNAL_TABLE}`\n",
        "OPTIONS (object_metadata = 'SIMPLE', uris = ['{VIDEOS_GCS_URI_PATTERN}']);\n",
        "\"\"\"\n",
        "print(f\"\\nCreating object table for review videos: {table_id_review_videos}\")\n",
        "run_bq_query(sql_create_video_table, client)"
      ]
    },
    {
      "cell_type": "markdown",
      "metadata": {
        "id": "GBjL069NCcyT"
      },
      "source": [
        "## Verify BigQuery Object Table (Review Images)"
      ]
    },
    {
      "cell_type": "code",
      "execution_count": null,
      "metadata": {
        "id": "Zuzo28zFDCIB"
      },
      "outputs": [],
      "source": [
        "%%bigquery\n",
        "SELECT * FROM `cymbal.review_images`\n",
        "LIMIT 5"
      ]
    },
    {
      "cell_type": "markdown",
      "metadata": {
        "id": "_-xoauhTEFDx"
      },
      "source": [
        "## Verify BigQuery Object Table (Review Videos)"
      ]
    },
    {
      "cell_type": "code",
      "execution_count": null,
      "metadata": {
        "id": "oAZQSVdJEKpZ"
      },
      "outputs": [],
      "source": [
        "%%bigquery\n",
        "SELECT * FROM `cymbal.review_videos`\n",
        "LIMIT 3"
      ]
    },
    {
      "cell_type": "markdown",
      "metadata": {
        "id": "6GWD96ZHFNxL"
      },
      "source": [
        "## Create a Gemini Model in BigQuery\n",
        "### This SQL command creates a remote model in BigQuery, linking it to the Gemini Flash endpoint via the connection we set up earlier."
      ]
    },
    {
      "cell_type": "code",
      "execution_count": null,
      "metadata": {
        "id": "wnndlvNZP9NV"
      },
      "outputs": [],
      "source": [
        "sql_create_gemini_model = f\"\"\"\n",
        "CREATE OR REPLACE MODEL `{GEMINI_MODEL_NAME}`\n",
        "REMOTE WITH CONNECTION `{CONNECTION_ID_FOR_EXTERNAL_TABLE}`\n",
        "OPTIONS (endpoint = 'gemini-2.0-flash-001');\n",
        "\"\"\"\n",
        "print(f\"Creating Gemini model: {GEMINI_MODEL_NAME}...\")\n",
        "run_bq_query(sql_create_gemini_model, client)"
      ]
    },
    {
      "cell_type": "markdown",
      "metadata": {
        "id": "YvUs6gTPFik4"
      },
      "source": [
        "## Analyze Text for Keywords and Sentiment\n",
        "### Now that the source table is guaranteed to have the correct schema, we can use this simple and efficient 'pass-through' pattern. The model will process each review and pass through the 'customer_review_id' for easy joining later."
      ]
    },
    {
      "cell_type": "code",
      "execution_count": null,
      "metadata": {
        "id": "wvEpKEaFP_qG"
      },
      "outputs": [],
      "source": [
        "# Analyze text for keywords\n",
        "table_id_reviews_keywords = f\"{PROJECT_ID}.{DATASET_ID}.customer_reviews_keywords\"\n",
        "sql_analyze_keywords = f\"\"\"\n",
        "CREATE OR REPLACE TABLE `{table_id_reviews_keywords}` AS\n",
        "SELECT\n",
        "  customer_review_id,\n",
        "  ml_generate_text_llm_result AS keywords_json_string\n",
        "FROM ML.GENERATE_TEXT(\n",
        "    MODEL `{GEMINI_MODEL_NAME}`,\n",
        "    (\n",
        "      SELECT\n",
        "        customer_review_id,\n",
        "        CONCAT('Extract keywords from the following customer review. Return as a JSON string array like {{\"keywords\": [\"keyword1\"]}}. Review: ', review_text) AS prompt\n",
        "      FROM\n",
        "        `{table_id_reviews_external}`\n",
        "    ),\n",
        "    STRUCT(0.2 AS temperature, TRUE AS flatten_json_output)\n",
        "  );\n",
        "\"\"\"\n",
        "print(\"Starting customer review keyword analysis...\")\n",
        "run_bq_query(sql_analyze_keywords, client)\n",
        "\n",
        "\n",
        "# Analyze text for sentiment\n",
        "table_id_reviews_analysis = f\"{PROJECT_ID}.{DATASET_ID}.customer_reviews_analysis\"\n",
        "sql_analyze_sentiment = f\"\"\"\n",
        "CREATE OR REPLACE TABLE `{table_id_reviews_analysis}` AS\n",
        "SELECT\n",
        "  customer_review_id,\n",
        "  ml_generate_text_llm_result AS sentiment_json_string\n",
        "FROM ML.GENERATE_TEXT(\n",
        "    MODEL `{GEMINI_MODEL_NAME}`,\n",
        "    (\n",
        "      SELECT\n",
        "        customer_review_id,\n",
        "        CONCAT('Classify the sentiment of the following review as \"positive\", \"negative\", or \"neutral\". Return as a JSON string like {{\"sentiment\": \"positive\"}}. Review: ', review_text) AS prompt\n",
        "      FROM\n",
        "        `{table_id_reviews_external}`\n",
        "    ),\n",
        "    STRUCT(0.2 AS temperature, TRUE AS flatten_json_output)\n",
        "  );\n",
        "\"\"\"\n",
        "print(\"\\nStarting customer review sentiment analysis...\")\n",
        "run_bq_query(sql_analyze_sentiment, client)"
      ]
    },
    {
      "cell_type": "markdown",
      "metadata": {
        "id": "9eUjiSq3GHmf"
      },
      "source": [
        "## Verify Text Analysis Results"
      ]
    },
    {
      "cell_type": "code",
      "execution_count": null,
      "metadata": {
        "id": "GEXeqGlwGlvd"
      },
      "outputs": [],
      "source": [
        "%%bigquery\n",
        "SELECT * FROM `cymbal.customer_reviews_keywords`\n",
        "LIMIT 5"
      ]
    },
    {
      "cell_type": "code",
      "execution_count": null,
      "metadata": {
        "id": "nRMQOQilGMuK"
      },
      "outputs": [],
      "source": [
        "%%bigquery\n",
        "SELECT * FROM `cymbal.customer_reviews_analysis`\n",
        "LIMIT 5"
      ]
    },
    {
      "cell_type": "markdown",
      "metadata": {
        "id": "wSQENUfIJvp4"
      },
      "source": [
        "## Analyze Images and Videos\n",
        "### Analyze Images and Videos using Gemini, BigQuery SQL and Object Tables"
      ]
    },
    {
      "cell_type": "code",
      "execution_count": null,
      "metadata": {
        "id": "oyqwNiHWQCTo"
      },
      "outputs": [],
      "source": [
        "# Invokes Gemini to analyze the content of each image in the object table.\n",
        "table_id_image_results = f\"{PROJECT_ID}.{DATASET_ID}.review_images_results\"\n",
        "sql_analyze_images = f\"\"\"\n",
        "CREATE OR REPLACE TABLE `{table_id_image_results}` AS\n",
        "SELECT uri, ml_generate_text_llm_result AS image_analysis_json\n",
        "FROM ML.GENERATE_TEXT( MODEL `{GEMINI_MODEL_NAME}`, TABLE `{table_id_review_images}`,\n",
        "    STRUCT('For each image, summarize it and extract relevant keywords. Answer in JSON with keys \"summary\" and \"keywords\".' AS prompt, TRUE AS flatten_json_output)\n",
        ");\n",
        "\"\"\"\n",
        "print(\"\\nStarting image analysis...\")\n",
        "run_bq_query(sql_analyze_images, client)\n",
        "\n",
        "# Invokes Gemini to analyze the content of each video in the object table.\n",
        "table_id_video_results = f\"{PROJECT_ID}.{DATASET_ID}.review_videos_results\"\n",
        "sql_analyze_videos = f\"\"\"\n",
        "CREATE OR REPLACE TABLE `{table_id_video_results}` AS\n",
        "SELECT uri, ml_generate_text_llm_result AS video_analysis_json\n",
        "FROM ML.GENERATE_TEXT( MODEL `{GEMINI_MODEL_NAME}`, TABLE `{table_id_review_videos}`,\n",
        "    STRUCT('For each video, summarize it and extract keywords. Answer in JSON with keys \"summary\" and \"keywords\".' AS prompt, TRUE AS flatten_json_output)\n",
        ");\n",
        "\"\"\"\n",
        "print(\"\\nStarting video analysis...\")\n",
        "run_bq_query(sql_analyze_videos, client)"
      ]
    },
    {
      "cell_type": "markdown",
      "metadata": {
        "id": "LWHWF3UHKbUY"
      },
      "source": [
        "## Review Image and Video Analysis Samples"
      ]
    },
    {
      "cell_type": "code",
      "execution_count": null,
      "metadata": {
        "id": "28vMBGJ3QEPh"
      },
      "outputs": [],
      "source": [
        "# This cell fetches and displays media files for direct comparison with the analysis results.\n",
        "storage_client = storage.Client()\n",
        "\n",
        "print(f\"\\n--- Displaying Individual Image Samples & Analysis ---\")\n",
        "df_img_samples = run_bq_query(f\"SELECT uri, image_analysis_json FROM `{table_id_image_results}` LIMIT 2\", client)\n",
        "if df_img_samples is not None:\n",
        "    for _, row in df_img_samples.iterrows():\n",
        "        print(\"-\" * 30)\n",
        "        print(f\"Analysis for: {row['uri']}\")\n",
        "        display(HTML(f\"<pre style='white-space: pre-wrap;'>{row['image_analysis_json']}</pre>\"))\n",
        "        try:\n",
        "            bucket_name, blob_name = row['uri'].replace(\"gs://\", \"\").split(\"/\", 1)\n",
        "            display(Image(data=storage_client.bucket(bucket_name).blob(blob_name).download_as_bytes(), width=300))\n",
        "        except Exception as e:\n",
        "            print(f\"--> Could not display image {row['uri']}. Error: {e}\")\n",
        "\n",
        "print(f\"\\n--- Displaying Individual Video Samples & Analysis ---\")\n",
        "df_vid_samples = run_bq_query(f\"SELECT uri, video_analysis_json FROM `{table_id_video_results}` LIMIT 1\", client)\n",
        "if df_vid_samples is not None:\n",
        "    for _, row in df_vid_samples.iterrows():\n",
        "        print(\"-\" * 30)\n",
        "        print(f\"Analysis for: {row['uri']}\")\n",
        "        display(HTML(f\"<pre style='white-space: pre-wrap;'>{row['video_analysis_json']}</pre>\"))\n",
        "\n",
        "video_url=f\"https://storage.googleapis.com/{PROJECT_ID}-bucket/review/videos/Review%20Video%20(1).mp4\"\n",
        "Video(video_url, width=640)"
      ]
    },
    {
      "cell_type": "markdown",
      "metadata": {
        "id": "RfE78AJpT47H"
      },
      "source": [
        "## Create a Unified Analysis Table\n",
        "### Putting all together into BigQuery Multimodal Table"
      ]
    },
    {
      "cell_type": "code",
      "execution_count": null,
      "metadata": {
        "id": "yVuR5nvFQFzj"
      },
      "outputs": [],
      "source": [
        "# The regular expression in REGEXP_EXTRACT is corrected to have only one capturing group `(\\\\d+)`.\n",
        "# This allows us to join the image/video analysis back to the original review by extracting the review ID from the filename.\n",
        "table_id_multimodal_reviews = f\"{PROJECT_ID}.{DATASET_ID}.multimodal_customer_reviews\"\n",
        "sql_create_multimodal_table = f\"\"\"\n",
        "CREATE OR REPLACE TABLE `{table_id_multimodal_reviews}` AS\n",
        "WITH\n",
        "  image_results_parsed AS (\n",
        "    SELECT SAFE_CAST(REGEXP_EXTRACT(uri, r'Review.*\\\\((\\\\d+)\\\\)') AS INT64) AS customer_review_id, uri AS image_uri, image_analysis_json\n",
        "    FROM `{table_id_image_results}`\n",
        "  ),\n",
        "  video_results_parsed AS (\n",
        "    SELECT SAFE_CAST(REGEXP_EXTRACT(uri, r'Video.*\\\\((\\\\d+)\\\\)') AS INT64) AS customer_review_id, uri AS video_uri, video_analysis_json\n",
        "    FROM `{table_id_video_results}`\n",
        "  )\n",
        "SELECT\n",
        "    cr.*, -- Select all columns from the correctly-defined source table\n",
        "    s.sentiment_json_string,\n",
        "    k.keywords_json_string,\n",
        "    irp.image_uri,\n",
        "    irp.image_analysis_json,\n",
        "    vrp.video_uri,\n",
        "    vrp.video_analysis_json\n",
        "FROM `{table_id_reviews_external}` AS cr\n",
        "LEFT JOIN `{table_id_reviews_analysis}` AS s ON cr.customer_review_id = s.customer_review_id\n",
        "LEFT JOIN `{table_id_reviews_keywords}` AS k ON cr.customer_review_id = k.customer_review_id\n",
        "LEFT JOIN image_results_parsed AS irp ON cr.customer_review_id = irp.customer_review_id\n",
        "LEFT JOIN video_results_parsed AS vrp ON cr.customer_review_id = vrp.customer_review_id;\n",
        "\"\"\"\n",
        "print(\"Creating unified multimodal analysis table...\")\n",
        "run_bq_query(sql_create_multimodal_table, client)"
      ]
    },
    {
      "cell_type": "markdown",
      "metadata": {
        "id": "PPQ95vPnUSl2"
      },
      "source": [
        "## Verify the Unified Table"
      ]
    },
    {
      "cell_type": "code",
      "execution_count": null,
      "metadata": {
        "id": "5nf0KG41Ublm"
      },
      "outputs": [],
      "source": [
        "%%bigquery\n",
        "SELECT * FROM `cymbal.multimodal_customer_reviews` where video_uri is not null"
      ]
    },
    {
      "cell_type": "markdown",
      "metadata": {
        "id": "Lumy4zuFV0r5"
      },
      "source": [
        "## Visualize Sentiment Distribution with GenAI\n",
        "\n",
        "\n",
        "- For this step, you will use the notebook's built-in generative AI assistant to create a plot for you.\n",
        "- Click the **+ Code** button to add a new code cell.\n",
        "- Inside the new cell, click the **Generate** button.\n",
        "- In the prompt box, type the following as a comment:\n",
        "   - `plot a bar chart for the distribution of text_sentiment in the multimodal_customer_reviews table`\n",
        "- Accept the suggested code, then run the cell to display the chart. This provides a quick overview of the overall sentiment balance.\n"
      ]
    },
    {
      "cell_type": "markdown",
      "metadata": {
        "id": "uEluYlVmdMiB"
      },
      "source": [
        "## Hands-On Lab: Generating Plots with GenAI\n",
        "\n",
        "\n",
        "- Now it's your turn to use the notebook's built-in generative AI assistant. You will write a simple prompt to create a visualization yourself.\n",
        "- Your challenge is to ask the generative AI assistant new and creative questions to uncover hidden patterns and insights from the `table_id_multimodal_reviews`.\n",
        "- Below are some examples to inspire you. Try running these, and then create your own!\n",
        "\n",
        "   1. Generate a line graph tracking the daily counts of positive, negative, and neutral reviews over time\n",
        "   ```\n",
        "   I want to analyze how customer sentiment has changed day by day.\n",
        "   Select data from the table_id_multimodal_reviews table and generate a line chart that tracks the daily counts of positive, negative, and neutral sentiments.\n",
        "   The sentiment is in the 'sentiment_json_string' field, and the date is in the 'review_datetime' field.\n",
        "   ```\n",
        "   2. Create a bar chart comparing the total count of reviews containing an image against the total count of reviews containing a video.\n",
        "   ```\n",
        "   Using table_id_multimodal_reviews, count the number of reviews that have an image and the number of reviews that have a video. Show the result as a bar chart.\n",
        "   ```\n",
        "   3. Plot a grouped bar chart showing the counts of positive, negative, and neutral reviews for customer age groups '18-29', '30-45', '46-60', and '61+'.\n",
        "   ```\n",
        "   I need a breakdown of sentiment by customer age group.\n",
        "   First, join the `table_id_multimodal_reviews` table with the `customers` table using `customer_id`.\n",
        "   Then, create four age groups from the `age` column: '18-29', '30-45', '46-60', and '61+'.\n",
        "   Finally, create a grouped bar chart where each age group shows the total count of 'positive', 'negative', and 'neutral' sentiments.\n",
        "   ```\n",
        "   4. Generate a grouped bar chart comparing the total counts of positive, negative, and neutral reviews across all gender categories.\n",
        "   ```\n",
        "   I want to analyze if customer sentiment differs by gender.\n",
        "   Join the `table_id_multimodal_reviews` table with the `customers` table using `customer_id`.\n",
        "   For each gender, count the total number of 'positive', 'negative', and 'neutral' reviews.\n",
        "   Present this comparison as a grouped bar chart, where each gender has its own set of bars for the sentiments.\n",
        "   ```\n",
        "\n"
      ]
    }
  ],
  "metadata": {
    "colab": {
      "cell_execution_strategy": "setup",
      "name": "task1",
      "provenance": []
    },
    "kernelspec": {
      "display_name": "Python 3",
      "name": "python3"
    },
    "language_info": {
      "name": "python"
    }
  },
  "nbformat": 4,
  "nbformat_minor": 0
}
